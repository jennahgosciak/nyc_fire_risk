{
 "cells": [
  {
   "cell_type": "markdown",
   "metadata": {
    "colab_type": "text",
    "id": "view-in-github"
   },
   "source": [
    "<a href=\"https://colab.research.google.com/github/jennahgosciak/nyc_fire_risk/blob/main/00_data_processing.ipynb\" target=\"_parent\"><img src=\"https://colab.research.google.com/assets/colab-badge.svg\" alt=\"Open In Colab\"/></a>"
   ]
  },
  {
   "cell_type": "code",
   "execution_count": 85,
   "metadata": {
    "colab": {
     "base_uri": "https://localhost:8080/"
    },
    "id": "U1iob6hhzqBo",
    "outputId": "de0ac75a-2af0-489b-ad9a-583476fb2520"
   },
   "outputs": [],
   "source": [
    "# setup\n",
    "import pandas as pd\n",
    "import numpy as np\n",
    "import matplotlib\n",
    "import matplotlib.pyplot as plt \n",
    "import requests\n",
    "import calendar\n",
    "import geopandas as gpd\n",
    "import os.path as os\n",
    "import scipy.stats\n",
    "import seaborn.palettes\n",
    "import seaborn.utils\n",
    "import sys\n",
    "from census import Census\n",
    "from us import states\n",
    "import http.client, urllib.request, urllib.parse, urllib.error, base64\n",
    "import config"
   ]
  },
  {
   "cell_type": "code",
   "execution_count": 86,
   "metadata": {},
   "outputs": [],
   "source": [
    "# load sklearn modules\n",
    "import sklearn\n",
    "from sklearn import linear_model, datasets\n",
    "from sklearn.model_selection import train_test_split\n",
    "from sklearn.metrics import roc_auc_score\n",
    "from sklearn.metrics import average_precision_score"
   ]
  },
  {
   "cell_type": "code",
   "execution_count": 87,
   "metadata": {},
   "outputs": [],
   "source": [
    "root= r\"C:/Users/Jennah/Desktop/Code/nyc_fire_risk\""
   ]
  },
  {
   "cell_type": "markdown",
   "metadata": {},
   "source": [
    "# Data Prep\n",
    "* Load analysis data, created in 00_data_processing.ipynb"
   ]
  },
  {
   "cell_type": "code",
   "execution_count": 88,
   "metadata": {},
   "outputs": [],
   "source": [
    "df= pd.read_csv(os.join(root, \"data/analysis_file.csv\"), index_col = 0)\n",
    "df.head()\n",
    "\n",
    "nacols= df.columns[df.isna().any()]\n",
    "# use 0 imputation\n",
    "df[[x + \"_na\" for x in nacols]] = df[nacols].apply(lambda x: np.where(\n",
    "                                        x.isna() | np.isinf(x), 1, 0))\n",
    "df[[x + \"_na\" for x in nacols]]\n",
    "df[nacols]= df[nacols].apply(lambda x: np.where(\n",
    "                    x.isna() | np.isinf(x), 1, 0))\n",
    "\n",
    "assert all([(df.loc[(df[nacols[i]] == 0), nacols[i]+\"_na\"] == 0).all() for i in range(len(nacols))])"
   ]
  },
  {
   "cell_type": "markdown",
   "metadata": {},
   "source": [
    "# Logistic Regression"
   ]
  },
  {
   "cell_type": "code",
   "execution_count": 89,
   "metadata": {},
   "outputs": [
    {
     "name": "stdout",
     "output_type": "stream",
     "text": [
      "\n",
      "Score with logistic regression: 0.10623105135275401\n"
     ]
    }
   ],
   "source": [
    "# set x and y and split data for test/train\n",
    "X= df.loc[:, df.columns[df.columns != \"vacate_ind\"]]\n",
    "y= df.loc[:, \"vacate_ind\"]\n",
    "X_train, X_test, y_train, y_test = train_test_split(X, y, test_size = 0.3, random_state = 999)\n",
    "# apply logistic regression\n",
    "lm=linear_model.LinearRegression()\n",
    "lm.fit(X_train,y_train)\n",
    "\n",
    "print(\"\\nScore with logistic regression:\", lm.score(X_test, y_test))"
   ]
  },
  {
   "cell_type": "markdown",
   "metadata": {},
   "source": [
    "# Decision Tree Models"
   ]
  },
  {
   "cell_type": "code",
   "execution_count": 90,
   "metadata": {},
   "outputs": [
    {
     "data": {
      "text/plain": [
       "0.9966128413787226"
      ]
     },
     "execution_count": 90,
     "metadata": {},
     "output_type": "execute_result"
    }
   ],
   "source": [
    "from sklearn.tree import DecisionTreeClassifier\n",
    "\n",
    "# learn model\n",
    "dt=DecisionTreeClassifier()\n",
    "dt.fit(X_train,y_train)\n",
    "dt.score(X_test, y_test)"
   ]
  },
  {
   "cell_type": "code",
   "execution_count": 91,
   "metadata": {},
   "outputs": [
    {
     "name": "stdout",
     "output_type": "stream",
     "text": [
      "0.996487509408774\n"
     ]
    }
   ],
   "source": [
    "# what is average w different random states\n",
    "OS=[]\n",
    "for i in range(10):\n",
    "    X_train, X_test, y_train, y_test = train_test_split(X, y, test_size = 0.3, random_state = i)    \n",
    "    dt = DecisionTreeClassifier()\n",
    "    dt.fit(X_train,y_train)\n",
    "    OS.append(dt.score(X_test,y_test))\n",
    "print(np.mean(OS))"
   ]
  },
  {
   "cell_type": "code",
   "execution_count": 93,
   "metadata": {},
   "outputs": [
    {
     "name": "stdout",
     "output_type": "stream",
     "text": [
      "Out of sample score: 0.9959397449783121\n",
      "Average precision score: 0.3145432348411598\n"
     ]
    }
   ],
   "source": [
    "# what is average w same random states, but different max depth values\n",
    "X_train,X_test,y_train,y_test=train_test_split(X, y, test_size=0.3,random_state=999)\n",
    "\n",
    "depths = range(1, 20)\n",
    "OS= []\n",
    "APS= []\n",
    "for i in depths:\n",
    "    dt = DecisionTreeClassifier(random_state = 999, max_depth = i)\n",
    "    dt.fit(X_train,y_train)\n",
    "    # use both score and average precision score\n",
    "    OS.append(dt.score(X_test,y_test))\n",
    "    pred=dt.predict_proba(X_test)[:,1]\n",
    "    APS.append(average_precision_score(np.array(y_test),pred))\n",
    "    \n",
    "print(\"Out of sample score:\", np.mean(OS))\n",
    "print(\"Average precision score:\", np.mean(APS))"
   ]
  },
  {
   "cell_type": "markdown",
   "metadata": {},
   "source": [
    "**Since the data is unbalanced, it makes sense to use the precision recall curve**\n",
    "\n",
    "Also, we are more interested in a positive outcome (e.g., a fire vacate order) than a negative outcome\n",
    "* Precision: what proportion of positive identifications was actually correct?\n",
    "* Recall: what proportion of actual positives was identified correctly?"
   ]
  },
  {
   "cell_type": "code",
   "execution_count": 94,
   "metadata": {},
   "outputs": [
    {
     "name": "stdout",
     "output_type": "stream",
     "text": [
      "Out of sample average precision score 0.39511221167644067\n"
     ]
    }
   ],
   "source": [
    "# what about using precision-recall area under the curve instead of the score\n",
    "APS=[]\n",
    "for i in range(10):\n",
    "    X_train,X_test,y_train,y_test=train_test_split(X, y, test_size=0.3, random_state=i)\n",
    "    dt=DecisionTreeClassifier()\n",
    "    dt.fit(X_train,y_train)\n",
    "    # probability of each class for each record\n",
    "    pred=dt.predict_proba(X_test)[:,1] # predicted probability of y = 1\n",
    "    APS.append(average_precision_score(np.array(y_test),pred))\n",
    "print(\"Out of sample average precision score\",np.mean(APS))"
   ]
  },
  {
   "cell_type": "code",
   "execution_count": 95,
   "metadata": {},
   "outputs": [
    {
     "name": "stdout",
     "output_type": "stream",
     "text": [
      "Random chance 0.004725719373384211\n"
     ]
    }
   ],
   "source": [
    "# random chance\n",
    "chance_OS=[]\n",
    "for i in range(10):\n",
    "    X_train,X_test,y_train,y_test=train_test_split(X, y, test_size=0.3, random_state=i)\n",
    "    # create 'prediction' vector that's the length of X_test vector\n",
    "    pred=np.random.random(len(X_test))\n",
    "    chance_OS.append(average_precision_score(np.array(y_test.apply(int)),pred))\n",
    "print(\"Random chance\", np.mean(chance_OS))"
   ]
  },
  {
   "cell_type": "markdown",
   "metadata": {},
   "source": [
    "**Test different hyper-parameters, such as maximum depth**"
   ]
  },
  {
   "cell_type": "code",
   "execution_count": 98,
   "metadata": {},
   "outputs": [
    {
     "name": "stdout",
     "output_type": "stream",
     "text": [
      "Out of sample average precision score 0.3224826930823945\n"
     ]
    }
   ],
   "source": [
    "X_train,X_test,y_train,y_test=train_test_split(X, y, test_size=0.3, random_state=999)\n",
    "\n",
    "# what about using precision-recall area under the curve instead of the score\n",
    "APS=[]\n",
    "for i in range(1, 21):\n",
    "    dt=DecisionTreeClassifier(random_state = 999, max_depth = i)\n",
    "    dt.fit(X_train,y_train)\n",
    "    # probability of each class for each record\n",
    "    pred=dt.predict_proba(X_test)[:,1] # predicted probability of y = 1\n",
    "    APS.append(average_precision_score(np.array(y_test),pred))"
   ]
  },
  {
   "cell_type": "code",
   "execution_count": 101,
   "metadata": {
    "scrolled": true
   },
   "outputs": [
    {
     "data": {
      "image/png": "[encoded data removed]",
      "text/plain": [
       "<Figure size 432x288 with 1 Axes>"
      ]
     },
     "metadata": {
      "needs_background": "light"
     },
     "output_type": "display_data"
    }
   ],
   "source": [
    "ax = plt.gca()\n",
    "ax.plot(range(1, 21), APS, '.-')\n",
    "plt.xlabel('alpha')\n",
    "plt.ylabel('Precision recall score')\n",
    "plt.title('Maximum depth for decision tree')\n",
    "plt.axis('tight')\n",
    "plt.show()"
   ]
  },
  {
   "cell_type": "markdown",
   "metadata": {},
   "source": [
    "**Tuning with gridsearchcv**"
   ]
  },
  {
   "cell_type": "code",
   "execution_count": 106,
   "metadata": {
    "scrolled": false
   },
   "outputs": [
    {
     "name": "stdout",
     "output_type": "stream",
     "text": [
      "0.34403241644763743\n",
      "{'max_depth': 41}\n"
     ]
    }
   ],
   "source": [
    "from sklearn.model_selection import GridSearchCV\n",
    "param_grid ={'max_depth': np.arange(1, 51, 2)}\n",
    "\n",
    "dt=DecisionTreeClassifier(random_state = 999)\n",
    "gr=GridSearchCV(dt,param_grid=param_grid, cv=5, scoring = \"recall\")\n",
    "rs=gr.fit(X_train,y_train)\n",
    "pred=rs.predict_proba(X_test)[:,1]\n",
    "print(average_precision_score(np.array(y_test),pred))\n",
    "print(rs.best_params_)"
   ]
  },
  {
   "cell_type": "markdown",
   "metadata": {},
   "source": [
    "# Ensemble Methods: Random Forests"
   ]
  },
  {
   "cell_type": "code",
   "execution_count": null,
   "metadata": {},
   "outputs": [],
   "source": []
  }
 ],
 "metadata": {
  "colab": {
   "authorship_tag": "ABX9TyMorEa7Z8ODUCEPTOlT1br+",
   "collapsed_sections": [],
   "include_colab_link": true,
   "name": "nyc fire risk",
   "provenance": []
  },
  "kernelspec": {
   "display_name": "geo_env",
   "language": "python",
   "name": "geo_env"
  },
  "language_info": {
   "codemirror_mode": {
    "name": "ipython",
    "version": 3
   },
   "file_extension": ".py",
   "mimetype": "text/x-python",
   "name": "python",
   "nbconvert_exporter": "python",
   "pygments_lexer": "ipython3",
   "version": "3.9.7"
  }
 },
 "nbformat": 4,
 "nbformat_minor": 1
}
